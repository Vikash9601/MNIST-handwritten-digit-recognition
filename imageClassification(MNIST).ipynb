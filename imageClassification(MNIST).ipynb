{
 "cells": [
  {
   "cell_type": "code",
   "execution_count": 36,
   "id": "4435e9ec",
   "metadata": {},
   "outputs": [],
   "source": [
    "import tensorflow as tf\n",
    "import numpy as np\n",
    "from tensorflow.keras.models import Sequential\n",
    "from tensorflow.keras.layers import Conv2D,MaxPooling2D,Dropout,Dense,Flatten\n"
   ]
  },
  {
   "cell_type": "code",
   "execution_count": 25,
   "id": "07a0714f",
   "metadata": {},
   "outputs": [
    {
     "name": "stdout",
     "output_type": "stream",
     "text": [
      "Model: \"sequential_3\"\n",
      "_________________________________________________________________\n",
      " Layer (type)                Output Shape              Param #   \n",
      "=================================================================\n",
      " conv2d_6 (Conv2D)           (None, 28, 28, 16)        160       \n",
      "                                                                 \n",
      " max_pooling2d_6 (MaxPooling  (None, 14, 14, 16)       0         \n",
      " 2D)                                                             \n",
      "                                                                 \n",
      " conv2d_7 (Conv2D)           (None, 14, 14, 24)        3480      \n",
      "                                                                 \n",
      " dropout_9 (Dropout)         (None, 14, 14, 24)        0         \n",
      "                                                                 \n",
      " max_pooling2d_7 (MaxPooling  (None, 7, 7, 24)         0         \n",
      " 2D)                                                             \n",
      "                                                                 \n",
      " flatten_3 (Flatten)         (None, 1176)              0         \n",
      "                                                                 \n",
      " dense_9 (Dense)             (None, 32)                37664     \n",
      "                                                                 \n",
      " dropout_10 (Dropout)        (None, 32)                0         \n",
      "                                                                 \n",
      " dense_10 (Dense)            (None, 24)                792       \n",
      "                                                                 \n",
      " dropout_11 (Dropout)        (None, 24)                0         \n",
      "                                                                 \n",
      " dense_11 (Dense)            (None, 10)                250       \n",
      "                                                                 \n",
      "=================================================================\n",
      "Total params: 42,346\n",
      "Trainable params: 42,346\n",
      "Non-trainable params: 0\n",
      "_________________________________________________________________\n",
      "Epoch 1/5\n",
      "134/134 [==============================] - 13s 96ms/step - loss: 1.1429 - accuracy: 0.6094 - val_loss: 0.4129 - val_accuracy: 0.8975\n",
      "Epoch 2/5\n",
      "134/134 [==============================] - 14s 107ms/step - loss: 0.4204 - accuracy: 0.8710 - val_loss: 0.2594 - val_accuracy: 0.9260\n",
      "Epoch 3/5\n",
      "134/134 [==============================] - 15s 110ms/step - loss: 0.2934 - accuracy: 0.9116 - val_loss: 0.1783 - val_accuracy: 0.9460\n",
      "Epoch 4/5\n",
      "134/134 [==============================] - 14s 106ms/step - loss: 0.2201 - accuracy: 0.9366 - val_loss: 0.1591 - val_accuracy: 0.9520\n",
      "Epoch 5/5\n",
      "134/134 [==============================] - 15s 109ms/step - loss: 0.1731 - accuracy: 0.9477 - val_loss: 0.1539 - val_accuracy: 0.9550\n",
      "63/63 [==============================] - 1s 14ms/step - loss: 0.1398 - accuracy: 0.9530\n",
      "Test loss: 0.1398092657327652\n",
      "Test accuracy: 0.953000009059906\n"
     ]
    }
   ],
   "source": [
    "(x_train, y_train), (x_test, y_test) = tf.keras.datasets.mnist.load_data()\n",
    "\n",
    "\n",
    "x_train = x_train[:10000]\n",
    "y_train = y_train[:10000]\n",
    "x_test = x_test[:1000]\n",
    "y_test = y_test[:1000]\n",
    "\n",
    "x_train = x_train.astype('float32') / 255.0\n",
    "x_test = x_test.astype('float32') / 255.0\n",
    "\n",
    "x_train = x_train.reshape((x_train.shape[0], 28, 28, 1))\n",
    "x_test = x_test.reshape((x_test.shape[0], 28, 28, 1))\n",
    "\n",
    "y_train = tf.keras.utils.to_categorical(y_train)\n",
    "y_test = tf.keras.utils.to_categorical(y_test)\n",
    "\n",
    "\n",
    "model=Sequential()\n",
    "model.add(Conv2D(16,(3,3),padding='same',kernel_initializer='he_normal',activation='relu'))\n",
    "model.add(MaxPooling2D((2,2)))\n",
    "model.add(Conv2D(24,(3,3),padding='same',kernel_initializer='he_normal',activation='relu'))\n",
    "model.add(Dropout(0.1))\n",
    "model.add(MaxPooling2D((2,2)))\n",
    "model.add(Flatten())\n",
    "model.add(Dense(32,kernel_initializer='he_normal',activation='relu'))\n",
    "model.add(Dropout(0.1))\n",
    "model.add(Dense(24,kernel_initializer='he_normal',activation='relu'))\n",
    "model.add(Dropout(0.1))\n",
    "model.add(Dense(10,kernel_initializer='he_normal',activation='softmax'))\n",
    "model.build(input_shape=(None, 28, 28, 1))\n",
    "\n",
    "model.compile(optimizer='adam',loss='categorical_crossentropy',metrics=['accuracy'])\n",
    "model.summary()\n",
    "\n",
    "model.fit(x_train,y_train,batch_size=60,epochs=5,validation_split=0.2)\n",
    "scores = model.evaluate(x_test,y_test, batch_size=16)\n",
    "\n",
    "print(\"Test loss:\", scores[0])\n",
    "print(\"Test accuracy:\", scores[1])\n",
    "\n"
   ]
  },
  {
   "cell_type": "code",
   "execution_count": 60,
   "id": "a98ae2b8",
   "metadata": {},
   "outputs": [
    {
     "name": "stdout",
     "output_type": "stream",
     "text": [
      "1/1 [==============================] - 0s 24ms/step\n",
      "[7 2 1 0 4 1 4 9 5 9]\n",
      "[7 2 1 0 4 1 4 9 5 9]\n"
     ]
    }
   ],
   "source": [
    "val=model.predict(x_test[:10])\n",
    "print(val.argmax(axis=1))\n",
    "\n",
    "print(y_test[:10])\n",
    "\n"
   ]
  }
 ],
 "metadata": {
  "kernelspec": {
   "display_name": "Python 3 (ipykernel)",
   "language": "python",
   "name": "python3"
  },
  "language_info": {
   "codemirror_mode": {
    "name": "ipython",
    "version": 3
   },
   "file_extension": ".py",
   "mimetype": "text/x-python",
   "name": "python",
   "nbconvert_exporter": "python",
   "pygments_lexer": "ipython3",
   "version": "3.9.13"
  }
 },
 "nbformat": 4,
 "nbformat_minor": 5
}
